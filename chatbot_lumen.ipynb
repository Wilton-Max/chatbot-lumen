{
  "nbformat": 4,
  "nbformat_minor": 0,
  "metadata": {
    "colab": {
      "provenance": [],
      "authorship_tag": "ABX9TyMG8lcc0ZA5fofG1P4dUyOQ",
      "include_colab_link": true
    },
    "kernelspec": {
      "name": "python3",
      "display_name": "Python 3"
    },
    "language_info": {
      "name": "python"
    }
  },
  "cells": [
    {
      "cell_type": "markdown",
      "metadata": {
        "id": "view-in-github",
        "colab_type": "text"
      },
      "source": [
        "<a href=\"https://colab.research.google.com/github/Lordi2017/chatbot-lumen/blob/main/chatbot_aul%C3%A3o.ipynb\" target=\"_parent\"><img src=\"https://colab.research.google.com/assets/colab-badge.svg\" alt=\"Open In Colab\"/></a>"
      ]
    },
    {
      "cell_type": "code",
      "source": [
        "#Instalando o SDK do Google\n",
        "!pip install -q -U google-generativeai\n",
        "\n",
        "#Configurações iniciais\n",
        "import google.generativeai as genai\n",
        "from google.colab import userdata\n",
        "api_key = userdata.get('SECRET_KEY')\n",
        "\n",
        "GOOGLE_API_KEY=\"SECRET_KEY\" # Substitua pela sua chave\n",
        "genai.configure(api_key=api_key)\n",
        "\n",
        "generation_config = {\n",
        "  \"candidate_count\": 1,\n",
        "  \"temperature\": 0.5,\n",
        "}\n",
        "\n",
        "model = genai.GenerativeModel(model_name='gemini-1.0-pro',\n",
        "                                  generation_config=generation_config)\n",
        "\n",
        "# Banco de dados de palavras-chave relacionadas à astronomia (expanda conforme necessário)\n",
        "palavras_chave_astronomia = [\"planeta\", \"estrela\", \"galáxia\", \"universo\", \"telescópio\",\n",
        "                              \"cometa\", \"asteróide\", \"lua\", \"sol\", \"nebulosa\", \"constelação\",\n",
        "                              \"astrofísica\", \"cosmologia\", \"espaço\", \"gravidade\", \"satélite\", \"órbita\"]\n",
        "\n",
        "def verificar_pergunta_astronomia(pergunta):\n",
        "  \"\"\"Verifica se a pergunta está relacionada à astronomia.\n",
        "\n",
        "  Args:\n",
        "    pergunta: A pergunta do usuário.\n",
        "\n",
        "  Returns:\n",
        "    True se a pergunta for relacionada à astronomia, False caso contrário.\n",
        "  \"\"\"\n",
        "  pergunta = pergunta.lower()\n",
        "  for palavra in palavras_chave_astronomia:\n",
        "    if palavra in pergunta:\n",
        "      return True\n",
        "  return False\n",
        "\n",
        "chat = model.start_chat(history=[])\n",
        "\n",
        "prompt = input('Faça sua pergunta sobre Astronomia: ')\n",
        "\n",
        "while prompt != \"fim\":\n",
        "  if verificar_pergunta_astronomia(prompt):\n",
        "    response = chat.send_message(prompt)\n",
        "    print(\"Resposta:\", response.text, '\\n\\n')\n",
        "  else:\n",
        "    print(\"Desculpe, este site é dedicado à astronomia. Por favor, faça uma pergunta sobre esse tema.\", '\\n\\n')\n",
        "  prompt = input('Faça sua pergunta sobre Astronomia: ')\n",
        "\n",
        "#Melhorando a visualização\n",
        "\n",
        "import textwrap\n",
        "from IPython.display import display\n",
        "from IPython.display import Markdown\n",
        "\n",
        "def to_markdown(text):\n",
        "  text = text.replace('•', '  *')\n",
        "  return Markdown(textwrap.indent(text, '> ', predicate=lambda _: True))\n",
        "\n",
        "#Imprimindo o histórico\n",
        "for message in chat.history:\n",
        "  display(to_markdown(f'**{message.role}**: {message.parts[0].text}'))\n",
        "  print('-------------------------------------------')"
      ],
      "metadata": {
        "id": "avGcM-R2mNTc"
      },
      "execution_count": null,
      "outputs": []
    }
  ]
}